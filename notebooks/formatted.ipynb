{
 "cells": [
  {
   "cell_type": "code",
   "execution_count": 5,
   "id": "fd44dc35",
   "metadata": {},
   "outputs": [
    {
     "name": "stdout",
     "output_type": "stream",
     "text": [
      "✅ File saved as formatted_option_chain.csv\n"
     ]
    }
   ],
   "source": [
    "import pandas as pd\n",
    "\n",
    "# Load the CSV\n",
    "df = pd.read_csv(\"../data/option_chain.csv\")\n",
    "\n",
    "# Clean column names\n",
    "df.columns = df.columns.str.strip()\n",
    "\n",
    "# If 'type' and 'symbol' both missing, assign default\n",
    "if 'type' not in df.columns:\n",
    "    if 'symbol' in df.columns:\n",
    "        df['type'] = df['symbol'].apply(\n",
    "            lambda x: 'CE' if 'CE' in str(x) else ('PE' if 'PE' in str(x) else 'UNK')\n",
    "        )\n",
    "    else:\n",
    "        # Add a dummy 'type' column if both missing\n",
    "        df['type'] = 'UNK'\n",
    "\n",
    "# Fill missing essential columns if needed\n",
    "for col in ['strikePrice', 'openInterest', 'lastPrice', 'timestamp']:\n",
    "    if col not in df.columns:\n",
    "        df[col] = None\n",
    "\n",
    "# Convert timestamp and add expiry\n",
    "df['timestamp'] = pd.to_datetime(df['timestamp'], errors='coerce')\n",
    "df['expiryDate'] = df['timestamp'] + pd.Timedelta(days=7)\n",
    "df['days_to_expiry'] = (df['expiryDate'] - df['timestamp']).dt.days\n",
    "\n",
    "# Clean up column order\n",
    "columns_order = ['strikePrice', 'openInterest', 'lastPrice', 'type', 'timestamp', 'expiryDate', 'days_to_expiry']\n",
    "df = df[columns_order]\n",
    "\n",
    "# Save formatted file\n",
    "df.to_csv(\"formatted_option_chain.csv\", index=False)\n",
    "print(\"✅ File saved as formatted_option_chain.csv\")\n"
   ]
  },
  {
   "cell_type": "code",
   "execution_count": 6,
   "id": "5d28f737",
   "metadata": {},
   "outputs": [
    {
     "data": {
      "text/plain": [
       "'../data/sample_option_chain.csv'"
      ]
     },
     "execution_count": 6,
     "metadata": {},
     "output_type": "execute_result"
    }
   ],
   "source": [
    "\n",
    "import pandas as pd\n",
    "\n",
    "# Create a sample option chain DataFrame\n",
    "sample_data = {\n",
    "    \"timestamp\": pd.date_range(start=\"2025-06-01\", periods=10, freq=\"D\"),\n",
    "    \"symbol\": [\"RELIANCE23JUNCE\", \"RELIANCE23JUNPE\"] * 5,\n",
    "    \"strikePrice\": [2500, 2500, 2550, 2550, 2600, 2600, 2650, 2650, 2700, 2700],\n",
    "    \"openInterest\": [1500, 1200, 1800, 1600, 2000, 1900, 1400, 1300, 1700, 1500],\n",
    "    \"lastPrice\": [120.5, 115.3, 122.7, 118.4, 130.6, 125.8, 110.2, 105.7, 112.5, 108.9],\n",
    "    \"impliedVolatility\": [20.5, 21.2, 19.7, 20.1, 22.3, 23.0, 18.9, 19.5, 21.0, 20.8]\n",
    "}\n",
    "\n",
    "df_sample = pd.DataFrame(sample_data)\n",
    "\n",
    "# Save to CSV\n",
    "output_path = \"../data/sample_option_chain.csv\"\n",
    "df_sample.to_csv(output_path, index=False)\n",
    "output_path"
   ]
  },
  {
   "cell_type": "code",
   "execution_count": null,
   "id": "aba700e3",
   "metadata": {},
   "outputs": [],
   "source": []
  }
 ],
 "metadata": {
  "kernelspec": {
   "display_name": "Python 3",
   "language": "python",
   "name": "python3"
  },
  "language_info": {
   "codemirror_mode": {
    "name": "ipython",
    "version": 3
   },
   "file_extension": ".py",
   "mimetype": "text/x-python",
   "name": "python",
   "nbconvert_exporter": "python",
   "pygments_lexer": "ipython3",
   "version": "3.12.1"
  }
 },
 "nbformat": 4,
 "nbformat_minor": 5
}
